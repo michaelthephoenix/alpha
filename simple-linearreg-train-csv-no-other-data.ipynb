{
 "cells": [
  {
   "cell_type": "code",
   "execution_count": 1,
   "id": "30be221b",
   "metadata": {
    "execution": {
     "iopub.execute_input": "2023-12-21T13:50:30.755731Z",
     "iopub.status.busy": "2023-12-21T13:50:30.755338Z",
     "iopub.status.idle": "2023-12-21T13:50:39.125956Z",
     "shell.execute_reply": "2023-12-21T13:50:39.124979Z"
    },
    "papermill": {
     "duration": 8.377632,
     "end_time": "2023-12-21T13:50:39.129173",
     "exception": false,
     "start_time": "2023-12-21T13:50:30.751541",
     "status": "completed"
    },
    "tags": []
   },
   "outputs": [
    {
     "name": "stdout",
     "output_type": "stream",
     "text": [
      "This version of the API is not optimized and should not be used to estimate the runtime of your code on the hidden test set.\n"
     ]
    }
   ],
   "source": [
    "import pandas as pd\n",
    "import enefit\n",
    "from sklearn.linear_model import LinearRegression\n",
    "from sklearn.tree import DecisionTreeRegressor\n",
    "\n",
    "p_root = \"/kaggle/input/predict-energy-behavior-of-prosumers/\"\n",
    "p_train = f\"{p_root}train.csv\"\n",
    "# p_subm = f\"{p_root}example_test_files/sample_submission.csv\"\n",
    "# p_test = f\"{p_root}example_test_files/test.csv\"\n",
    "\n",
    "train = pd.read_csv(p_train, parse_dates=[\"datetime\"])\n",
    "train = train.dropna(subset=[\"target\"])\n",
    "\n",
    "\n",
    "def get_X(df):\n",
    "    df = df.rename(columns={\"prediction_datetime\": \"datetime\"})\n",
    "    x_columns = [\"county\", \"is_business\", \"product_type\", \"is_consumption\", \"hour\"]\n",
    "\n",
    "    df[\"hour\"] = df[\"datetime\"].dt.hour\n",
    "    return df[x_columns]\n",
    "\n",
    "X_train = get_X(train)\n",
    "y_train = train.target\n",
    "model = DecisionTreeRegressor(random_state=42)\n",
    "fit = model.fit(X_train, y_train)\n",
    "\n",
    "env = enefit.make_env()\n",
    "iter_test = env.iter_test()\n",
    "\n",
    "for (test, _, _, _, _, _, _, subm) in iter_test:\n",
    "    X_test = get_X(test)\n",
    "    subm[\"target\"] = fit.predict(X_test)\n",
    "    env.predict(subm)"
   ]
  },
  {
   "cell_type": "code",
   "execution_count": 2,
   "id": "4c7b55ca",
   "metadata": {
    "execution": {
     "iopub.execute_input": "2023-12-21T13:50:39.136362Z",
     "iopub.status.busy": "2023-12-21T13:50:39.136012Z",
     "iopub.status.idle": "2023-12-21T13:50:39.151977Z",
     "shell.execute_reply": "2023-12-21T13:50:39.151052Z"
    },
    "papermill": {
     "duration": 0.020823,
     "end_time": "2023-12-21T13:50:39.154020",
     "exception": false,
     "start_time": "2023-12-21T13:50:39.133197",
     "status": "completed"
    },
    "tags": []
   },
   "outputs": [
    {
     "data": {
      "text/html": [
       "<div>\n",
       "<style scoped>\n",
       "    .dataframe tbody tr th:only-of-type {\n",
       "        vertical-align: middle;\n",
       "    }\n",
       "\n",
       "    .dataframe tbody tr th {\n",
       "        vertical-align: top;\n",
       "    }\n",
       "\n",
       "    .dataframe thead th {\n",
       "        text-align: right;\n",
       "    }\n",
       "</style>\n",
       "<table border=\"1\" class=\"dataframe\">\n",
       "  <thead>\n",
       "    <tr style=\"text-align: right;\">\n",
       "      <th></th>\n",
       "      <th>row_id</th>\n",
       "      <th>target</th>\n",
       "    </tr>\n",
       "  </thead>\n",
       "  <tbody>\n",
       "    <tr>\n",
       "      <th>0</th>\n",
       "      <td>2015232</td>\n",
       "      <td>0.689223</td>\n",
       "    </tr>\n",
       "    <tr>\n",
       "      <th>1</th>\n",
       "      <td>2015233</td>\n",
       "      <td>507.191171</td>\n",
       "    </tr>\n",
       "    <tr>\n",
       "      <th>2</th>\n",
       "      <td>2015234</td>\n",
       "      <td>0.005511</td>\n",
       "    </tr>\n",
       "    <tr>\n",
       "      <th>3</th>\n",
       "      <td>2015235</td>\n",
       "      <td>25.623616</td>\n",
       "    </tr>\n",
       "    <tr>\n",
       "      <th>4</th>\n",
       "      <td>2015236</td>\n",
       "      <td>2.688367</td>\n",
       "    </tr>\n",
       "    <tr>\n",
       "      <th>...</th>\n",
       "      <td>...</td>\n",
       "      <td>...</td>\n",
       "    </tr>\n",
       "    <tr>\n",
       "      <th>3115</th>\n",
       "      <td>2018347</td>\n",
       "      <td>222.605554</td>\n",
       "    </tr>\n",
       "    <tr>\n",
       "      <th>3116</th>\n",
       "      <td>2018348</td>\n",
       "      <td>0.005486</td>\n",
       "    </tr>\n",
       "    <tr>\n",
       "      <th>3117</th>\n",
       "      <td>2018349</td>\n",
       "      <td>65.394055</td>\n",
       "    </tr>\n",
       "    <tr>\n",
       "      <th>3118</th>\n",
       "      <td>2018350</td>\n",
       "      <td>0.221494</td>\n",
       "    </tr>\n",
       "    <tr>\n",
       "      <th>3119</th>\n",
       "      <td>2018351</td>\n",
       "      <td>311.312154</td>\n",
       "    </tr>\n",
       "  </tbody>\n",
       "</table>\n",
       "<p>3120 rows × 2 columns</p>\n",
       "</div>"
      ],
      "text/plain": [
       "       row_id      target\n",
       "0     2015232    0.689223\n",
       "1     2015233  507.191171\n",
       "2     2015234    0.005511\n",
       "3     2015235   25.623616\n",
       "4     2015236    2.688367\n",
       "...       ...         ...\n",
       "3115  2018347  222.605554\n",
       "3116  2018348    0.005486\n",
       "3117  2018349   65.394055\n",
       "3118  2018350    0.221494\n",
       "3119  2018351  311.312154\n",
       "\n",
       "[3120 rows x 2 columns]"
      ]
     },
     "execution_count": 2,
     "metadata": {},
     "output_type": "execute_result"
    }
   ],
   "source": [
    "subm"
   ]
  },
  {
   "cell_type": "code",
   "execution_count": null,
   "id": "0df80b7b",
   "metadata": {
    "papermill": {
     "duration": 0.001849,
     "end_time": "2023-12-21T13:50:39.158057",
     "exception": false,
     "start_time": "2023-12-21T13:50:39.156208",
     "status": "completed"
    },
    "tags": []
   },
   "outputs": [],
   "source": []
  }
 ],
 "metadata": {
  "kaggle": {
   "accelerator": "none",
   "dataSources": [
    {
     "databundleVersionId": 7292407,
     "sourceId": 57236,
     "sourceType": "competition"
    }
   ],
   "dockerImageVersionId": 30587,
   "isGpuEnabled": false,
   "isInternetEnabled": false,
   "language": "python",
   "sourceType": "notebook"
  },
  "kernelspec": {
   "display_name": "Python 3",
   "language": "python",
   "name": "python3"
  },
  "language_info": {
   "codemirror_mode": {
    "name": "ipython",
    "version": 3
   },
   "file_extension": ".py",
   "mimetype": "text/x-python",
   "name": "python",
   "nbconvert_exporter": "python",
   "pygments_lexer": "ipython3",
   "version": "3.10.12"
  },
  "papermill": {
   "default_parameters": {},
   "duration": 12.403551,
   "end_time": "2023-12-21T13:50:39.780728",
   "environment_variables": {},
   "exception": null,
   "input_path": "__notebook__.ipynb",
   "output_path": "__notebook__.ipynb",
   "parameters": {},
   "start_time": "2023-12-21T13:50:27.377177",
   "version": "2.4.0"
  }
 },
 "nbformat": 4,
 "nbformat_minor": 5
}
